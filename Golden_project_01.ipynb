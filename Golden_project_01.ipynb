{
  "nbformat": 4,
  "nbformat_minor": 0,
  "metadata": {
    "colab": {
      "provenance": []
    },
    "kernelspec": {
      "name": "python3",
      "display_name": "Python 3"
    },
    "language_info": {
      "name": "python"
    }
  },
  "cells": [
    {
      "cell_type": "code",
      "execution_count": 1,
      "metadata": {
        "colab": {
          "base_uri": "https://localhost:8080/"
        },
        "id": "XjwxnqFTmjii",
        "outputId": "62d7bbc0-6740-44f0-d6be-377d1b1db62f"
      },
      "outputs": [
        {
          "output_type": "stream",
          "name": "stdout",
          "text": [
            "First 5 rows of the dataset:\n",
            "                           name  year  selling_price  km_driven    fuel  \\\n",
            "0        Maruti Swift Dzire VDI  2014         450000     145500  Diesel   \n",
            "1  Skoda Rapid 1.5 TDI Ambition  2014         370000     120000  Diesel   \n",
            "2      Honda City 2017-2020 EXi  2006         158000     140000  Petrol   \n",
            "3     Hyundai i20 Sportz Diesel  2010         225000     127000  Diesel   \n",
            "4        Maruti Swift VXI BSIII  2007         130000     120000  Petrol   \n",
            "\n",
            "  seller_type transmission         owner  mileage(km/ltr/kg)  engine  \\\n",
            "0  Individual       Manual   First Owner               23.40  1248.0   \n",
            "1  Individual       Manual  Second Owner               21.14  1498.0   \n",
            "2  Individual       Manual   Third Owner               17.70  1497.0   \n",
            "3  Individual       Manual   First Owner               23.00  1396.0   \n",
            "4  Individual       Manual   First Owner               16.10  1298.0   \n",
            "\n",
            "  max_power  seats  \n",
            "0        74    5.0  \n",
            "1    103.52    5.0  \n",
            "2        78    5.0  \n",
            "3        90    5.0  \n",
            "4      88.2    5.0  \n",
            "\n",
            "Dataset Information:\n",
            "<class 'pandas.core.frame.DataFrame'>\n",
            "RangeIndex: 8128 entries, 0 to 8127\n",
            "Data columns (total 12 columns):\n",
            " #   Column              Non-Null Count  Dtype  \n",
            "---  ------              --------------  -----  \n",
            " 0   name                8128 non-null   object \n",
            " 1   year                8128 non-null   int64  \n",
            " 2   selling_price       8128 non-null   int64  \n",
            " 3   km_driven           8128 non-null   int64  \n",
            " 4   fuel                8128 non-null   object \n",
            " 5   seller_type         8128 non-null   object \n",
            " 6   transmission        8128 non-null   object \n",
            " 7   owner               8128 non-null   object \n",
            " 8   mileage(km/ltr/kg)  7907 non-null   float64\n",
            " 9   engine              7907 non-null   float64\n",
            " 10  max_power           7913 non-null   object \n",
            " 11  seats               7907 non-null   float64\n",
            "dtypes: float64(3), int64(3), object(6)\n",
            "memory usage: 762.1+ KB\n",
            "\n",
            "Missing values in the dataset:\n",
            "name                    0\n",
            "year                    0\n",
            "selling_price           0\n",
            "km_driven               0\n",
            "fuel                    0\n",
            "seller_type             0\n",
            "transmission            0\n",
            "owner                   0\n",
            "mileage(km/ltr/kg)    221\n",
            "engine                221\n",
            "max_power             215\n",
            "seats                 221\n",
            "dtype: int64\n",
            "\n",
            "Summary Statistics:\n",
            "              year  selling_price     km_driven  mileage(km/ltr/kg)  \\\n",
            "count  8128.000000   8.128000e+03  8.128000e+03         7907.000000   \n",
            "mean   2013.804011   6.382718e+05  6.981951e+04           19.418783   \n",
            "std       4.044249   8.062534e+05  5.655055e+04            4.037145   \n",
            "min    1983.000000   2.999900e+04  1.000000e+00            0.000000   \n",
            "25%    2011.000000   2.549990e+05  3.500000e+04           16.780000   \n",
            "50%    2015.000000   4.500000e+05  6.000000e+04           19.300000   \n",
            "75%    2017.000000   6.750000e+05  9.800000e+04           22.320000   \n",
            "max    2020.000000   1.000000e+07  2.360457e+06           42.000000   \n",
            "\n",
            "            engine        seats  \n",
            "count  7907.000000  7907.000000  \n",
            "mean   1458.625016     5.416719  \n",
            "std     503.916303     0.959588  \n",
            "min     624.000000     2.000000  \n",
            "25%    1197.000000     5.000000  \n",
            "50%    1248.000000     5.000000  \n",
            "75%    1582.000000     5.000000  \n",
            "max    3604.000000    14.000000  \n"
          ]
        }
      ],
      "source": [
        "# Import required libraries\n",
        "import pandas as pd\n",
        "\n",
        "# Load the dataset from the uploaded file\n",
        "file_path = '/content/cardekho.csv'  # Change to the file path on Google Colab after upload\n",
        "df = pd.read_csv(file_path)\n",
        "\n",
        "# Display the first few rows of the dataset\n",
        "print(\"First 5 rows of the dataset:\")\n",
        "print(df.head())\n",
        "\n",
        "# Display basic information about the dataset\n",
        "print(\"\\nDataset Information:\")\n",
        "df.info()\n",
        "\n",
        "# Check for missing values\n",
        "print(\"\\nMissing values in the dataset:\")\n",
        "print(df.isnull().sum())\n",
        "\n",
        "# Summary statistics\n",
        "print(\"\\nSummary Statistics:\")\n",
        "print(df.describe())\n"
      ]
    }
  ]
}